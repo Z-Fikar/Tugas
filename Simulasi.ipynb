{
 "cells": [
  {
   "cell_type": "markdown",
   "metadata": {},
   "source": [
    "# Skrip Program Simulasi\n",
    "```python\n",
    "import random as r\n",
    "\n",
    "\n",
    "class MontyHall:\n",
    "    def __init__(self, doors=3, prizes=1, limit=2):\n",
    "        self.doors = [x for x in range(doors)]\n",
    "\n",
    "        self.prizes = []\n",
    "        while len(self.prizes) < prizes:\n",
    "            tmp = self.pick_door()\n",
    "            if tmp not in self.prizes:\n",
    "                self.prizes.append(tmp)\n",
    "\n",
    "        self.limit = limit\n",
    "\n",
    "    def pick_door(self):\n",
    "        return r.choice(self.doors)\n",
    "\n",
    "    def select_door(self):\n",
    "        self.select = self.pick_door()\n",
    "\n",
    "    def remove_doors(self):\n",
    "        while(len(self.doors) > self.limit):\n",
    "            rmv = self.pick_door()\n",
    "            tmp = [x for x in self.doors]\n",
    "            tmp.remove(rmv)\n",
    "            if(rmv != self.select and any(x in tmp for x in self.prizes)):\n",
    "                self.doors.remove(rmv)\n",
    "\n",
    "    def switch_door(self):\n",
    "        old = self.select\n",
    "        while(old == self.select):\n",
    "            self.select = self.pick_door()\n",
    "\n",
    "    def check_win(self):\n",
    "        return self.select in self.prizes\n",
    "\n",
    "    def print_verbose(self, key, value):\n",
    "        v_format = \"{:33s} : {}\"\n",
    "        print(v_format.format(key, value))\n",
    "\n",
    "    def start(self, switch=False, verbose=False):\n",
    "        self.select_door()\n",
    "\n",
    "        if verbose:\n",
    "            self.print_verbose(\"Doors\", self.doors)\n",
    "            self.print_verbose(\"Prizes\", self.prizes)\n",
    "            self.print_verbose(\"Contestant's Selection\", self.select)\n",
    "\n",
    "        self.remove_doors()\n",
    "\n",
    "        if verbose:\n",
    "            self.print_verbose(\"Remaining Doors\", self.doors)\n",
    "\n",
    "        if(switch):\n",
    "            self.switch_door()\n",
    "            if verbose:\n",
    "                self.print_verbose(\n",
    "                    \"Contestant's Switched Selection\", self.select)\n",
    "\n",
    "        if verbose:\n",
    "            print()\n",
    "\n",
    "        return self.check_win()\n",
    "\n",
    "\n",
    "class Simulation:\n",
    "    def __init__(self, doors=3, trials=10**5, prizes=1, limit=2):\n",
    "        err1 = \"Number of doors must be greater than number of prizes\"\n",
    "        assert doors > prizes, err1\n",
    "\n",
    "        err2 = \"The minimal number of limits is equal to the number of prizes\"\n",
    "        err3 = \" and less than number of doors\"\n",
    "        assert limit >= prizes and limit < doors, err2+err3\n",
    "\n",
    "        self.doors = doors\n",
    "        self.trials = trials\n",
    "        self.prizes = prizes\n",
    "        self.limit = limit\n",
    "\n",
    "    def start(self, switch=False, verbose=False, info=True):\n",
    "        wins = 0\n",
    "        for x in range(self.trials):\n",
    "            m = MontyHall(self.doors, self.prizes, self.limit)\n",
    "            if(m.start(switch, verbose)):\n",
    "                wins += 1\n",
    "        return self._print(switch, wins, info)\n",
    "\n",
    "    def _print(self, switch, wins, info=True):\n",
    "        out_format = \" {:15s}: {:3.2f}℅ with {} wins of {} trials\"\n",
    "\n",
    "        ss = \"Switching\" if(switch) else \"Not Switching\"\n",
    "        perc = wins * 100. / self.trials\n",
    "        out = out_format.format(ss, perc, wins, self.trials)\n",
    "        line = \"=\"*(len(out)+1)\n",
    "        return \"\\n\".join([line, out, line, \"\\n\"]) if info else perc\n",
    "\n",
    "\n",
    "if __name__ == \"__main__\":\n",
    "    number_of_trials = 10000\n",
    "    number_of_doors = 3\n",
    "    number_of_prizes = 1\n",
    "    number_of_limits = 2  # Doors will be removed until there are only {} doors remaining\n",
    "    is_verbose = False\n",
    "\n",
    "    # s = Simulation()  # default arguments value\n",
    "    s = Simulation(doors=number_of_doors, trials=number_of_trials,\n",
    "                   prizes=number_of_prizes, limit=number_of_limits)\n",
    "    print(s.start(switch=True, verbose=is_verbose))\n",
    "    print(s.start(switch=False, verbose=is_verbose))\n",
    "\n",
    "```"
   ]
  },
  {
   "cell_type": "code",
   "execution_count": 4,
   "metadata": {},
   "outputs": [],
   "source": [
    "from Simulasi import Simulation\n",
    "import matplotlib.pyplot as plt"
   ]
  },
  {
   "cell_type": "code",
   "execution_count": 62,
   "metadata": {},
   "outputs": [
    {
     "name": "stdout",
     "output_type": "stream",
     "text": [
      "=================================================\n",
      " Switching      : 80.00℅ with 4 wins of 5 trials\n",
      "=================================================\n",
      "\n",
      "\n",
      "=================================================\n",
      " Not Switching  : 20.00℅ with 1 wins of 5 trials\n",
      "=================================================\n",
      "\n",
      "\n"
     ]
    }
   ],
   "source": [
    "number_of_trials = 5\n",
    "number_of_doors = 3\n",
    "number_of_prizes = 1\n",
    "number_of_limits = 2\n",
    "is_verbose = False\n",
    "\n",
    "s = Simulation(doors=number_of_doors, trials=number_of_trials,\n",
    "               prizes=number_of_prizes, limit=number_of_limits)\n",
    "print(s.start(switch=True, verbose=is_verbose))\n",
    "print(s.start(switch=False, verbose=is_verbose))"
   ]
  },
  {
   "cell_type": "code",
   "execution_count": 54,
   "metadata": {},
   "outputs": [],
   "source": [
    "def generate():\n",
    "    s = Simulation(trials=100)\n",
    "    for x in range(1000):\n",
    "        switch_list.append(s.start(switch=True, info=False))\n",
    "        not_switch_list.append(s.start(switch=False, info=False))\n",
    "\n",
    "def show():\n",
    "    plt.ylim(0,100)\n",
    "    plt.xlim(0,1200)\n",
    "\n",
    "    plt.plot([x+1 for x in range(len(switch_list))],switch_list, label=\"Switching\", color=\"purple\")\n",
    "    plt.plot([x+1 for x in range(len(not_switch_list))],not_switch_list, label=\"Not Switching\", color=\"orange\")\n",
    "\n",
    "    avg_switch = sum(switch_list)/len(switch_list)\n",
    "    avg_not_switch = sum(not_switch_list)/len(not_switch_list)\n",
    "\n",
    "    print(\"{:45s}: {:.2f}%\".format(\"Average Switching's Winning percentage\", avg_switch))\n",
    "    print(\"{:45s}: {:.2f}%\".format(\"Average Not Switching's Winning percentage\",avg_not_switch))\n",
    "\n",
    "    plt.axhline(color=\"r\", y=avg_switch, label=\"Switching's average\")\n",
    "    plt.axhline(color=\"b\", y=avg_not_switch, label=\"Not Switching's average\")\n",
    "\n",
    "    plt.ylabel('Winning percentage (%)')\n",
    "    plt.xlabel('Number of trials')\n",
    "\n",
    "    plt.rcParams['figure.figsize'] = [18, 3]\n",
    "    plt.legend()\n",
    "    plt.show()"
   ]
  },
  {
   "cell_type": "code",
   "execution_count": 47,
   "metadata": {},
   "outputs": [],
   "source": [
    "switch_list = []\n",
    "not_switch_list = []\n",
    "\n",
    "generate()"
   ]
  },
  {
   "cell_type": "code",
   "execution_count": 48,
   "metadata": {},
   "outputs": [
    {
     "name": "stdout",
     "output_type": "stream",
     "text": [
      "Average Switching's Winning percentage       : 66.57%\n",
      "Average Not Switching's Winning percentage   : 33.26%\n"
     ]
    },
    {
     "data": {
      "image/png": "[encoded data removed]",
      "text/plain": [
       "<Figure size 432x288 with 1 Axes>"
      ]
     },
     "metadata": {
      "needs_background": "light"
     },
     "output_type": "display_data"
    }
   ],
   "source": [
    "show()"
   ]
  },
  {
   "cell_type": "code",
   "execution_count": null,
   "metadata": {},
   "outputs": [],
   "source": []
  },
  {
   "cell_type": "code",
   "execution_count": null,
   "metadata": {},
   "outputs": [],
   "source": []
  }
 ],
 "metadata": {
  "kernelspec": {
   "display_name": "Python 3",
   "language": "python",
   "name": "python3"
  }
 },
 "nbformat": 4,
 "nbformat_minor": 2
}
